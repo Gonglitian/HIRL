{
  "cells": [
    {
      "cell_type": "code",
      "execution_count": 24,
      "metadata": {},
      "outputs": [
        {
          "name": "stdout",
          "output_type": "stream",
          "text": [
            "<KeysViewHDF5 ['actions', 'is_human_action', 'observations', 'rewards', 'terminated', 'truncated']>\n",
            "<HDF5 dataset \"observations\": shape (215, 2), type \"<f8\">\n"
          ]
        }
      ],
      "source": [
        "import h5py\n",
        "# 加载轨迹数据\n",
        "data_path = \"/home/glt/Projects/HIRL/data/pusht_human_mouse_trajectories/trajectories_1episodes.h5\"\n",
        "\n",
        "with h5py.File(data_path, 'r') as f:\n",
        "    print(f['episode_0']['steps'].keys())\n",
        "    print(f['episode_0']['steps']['observations'])"
      ]
    },
    {
      "cell_type": "raw",
      "metadata": {
        "vscode": {
          "languageId": "raw"
        }
      },
      "source": [
        "## 3. 可视化Pixels图像和Agent位置\n"
      ]
    },
    {
      "cell_type": "code",
      "execution_count": null,
      "metadata": {},
      "outputs": [],
      "source": [
        "# 可视化轨迹中的关键帧\n",
        "n_steps = len(episode.steps)\n",
        "key_frames = [0, n_steps//2, -1] if n_steps > 2 else list(range(n_steps))\n",
        "frame_names = ['开始帧', '中间帧', '结束帧'] if n_steps > 2 else [f'第{i}帧' for i in range(n_steps)]\n",
        "\n",
        "fig, axes = plt.subplots(2, len(key_frames), figsize=(5*len(key_frames), 10))\n",
        "if len(key_frames) == 1:\n",
        "    axes = axes.reshape(2, 1)\n",
        "\n",
        "for i, (frame_idx, frame_name) in enumerate(zip(key_frames, frame_names)):\n",
        "    if frame_idx < 0:\n",
        "        frame_idx = n_steps + frame_idx\n",
        "    \n",
        "    step = episode.steps[frame_idx]\n",
        "    obs = step.observation\n",
        "    \n",
        "    if isinstance(obs, dict) and 'pixels' in obs and 'agent_pos' in obs:\n",
        "        pixels = obs['pixels']\n",
        "        agent_pos = obs['agent_pos']\n",
        "        \n",
        "        # 显示pixels图像\n",
        "        axes[0, i].imshow(pixels)\n",
        "        axes[0, i].set_title(f'{frame_name}\\nPixels观测 {pixels.shape}')\n",
        "        axes[0, i].set_xlabel('Width (像素)')\n",
        "        axes[0, i].set_ylabel('Height (像素)')\n",
        "        \n",
        "        # 在图像上标记agent位置\n",
        "        # agent_pos是在[0, 512]范围内，需要缩放到[0, 96]图像坐标\n",
        "        agent_x_img = agent_pos[0] * pixels.shape[1] / 512\n",
        "        agent_y_img = agent_pos[1] * pixels.shape[0] / 512\n",
        "        \n",
        "        axes[0, i].plot(agent_x_img, agent_y_img, 'ro', markersize=8, \n",
        "                       label=f'Agent位置')\n",
        "        axes[0, i].legend()\n",
        "        \n",
        "        # 显示agent位置数据\n",
        "        axes[1, i].bar(['X坐标', 'Y坐标'], agent_pos, color=['blue', 'red'], alpha=0.7)\n",
        "        axes[1, i].set_title(f'{frame_name}\\nAgent位置坐标')\n",
        "        axes[1, i].set_ylabel('坐标值')\n",
        "        axes[1, i].set_ylim(0, 512)\n",
        "        \n",
        "        # 添加数值标签\n",
        "        for j, val in enumerate(agent_pos):\n",
        "            axes[1, i].text(j, val + 10, f'{val:.1f}', ha='center', va='bottom')\n",
        "    else:\n",
        "        axes[0, i].text(0.5, 0.5, 'No pixels data', ha='center', va='center')\n",
        "        axes[1, i].text(0.5, 0.5, 'No agent_pos data', ha='center', va='center')\n",
        "\n",
        "plt.tight_layout()\n",
        "plt.show()\n"
      ]
    },
    {
      "cell_type": "raw",
      "metadata": {
        "vscode": {
          "languageId": "raw"
        }
      },
      "source": [
        "## 4. 分析所有步骤的数据统计\n"
      ]
    },
    {
      "cell_type": "code",
      "execution_count": null,
      "metadata": {},
      "outputs": [],
      "source": [
        "# 提取所有步骤的数据进行统计分析\n",
        "agent_positions = []\n",
        "pixels_shapes = []\n",
        "rewards = []\n",
        "actions = []\n",
        "\n",
        "for i, step in enumerate(episode.steps):\n",
        "    obs = step.observation\n",
        "    \n",
        "    if isinstance(obs, dict):\n",
        "        if 'agent_pos' in obs:\n",
        "            agent_positions.append(obs['agent_pos'].copy())\n",
        "        if 'pixels' in obs:\n",
        "            pixels_shapes.append(obs['pixels'].shape)\n",
        "    \n",
        "    rewards.append(step.reward)\n",
        "    actions.append(step.action.copy())\n",
        "\n",
        "agent_positions = np.array(agent_positions) if agent_positions else np.array([])\n",
        "rewards = np.array(rewards)\n",
        "actions = np.array(actions) if actions else np.array([])\n",
        "\n",
        "print(\"=== 轨迹数据统计 ===\")\n",
        "print(f\"总步数: {len(episode.steps)}\")\n",
        "\n",
        "if len(agent_positions) > 0:\n",
        "    print(f\"\\nAgent位置统计:\")\n",
        "    print(f\"  - Agent位置数组shape: {agent_positions.shape}\")\n",
        "    print(f\"  - X坐标范围: [{agent_positions[:, 0].min():.2f}, {agent_positions[:, 0].max():.2f}]\")\n",
        "    print(f\"  - Y坐标范围: [{agent_positions[:, 1].min():.2f}, {agent_positions[:, 1].max():.2f}]\")\n",
        "    print(f\"  - X坐标标准差: {agent_positions[:, 0].std():.2f}\")\n",
        "    print(f\"  - Y坐标标准差: {agent_positions[:, 1].std():.2f}\")\n",
        "\n",
        "if len(pixels_shapes) > 0:\n",
        "    print(f\"\\nPixels数据统计:\")\n",
        "    print(f\"  - 所有pixels观测的shape: {set(pixels_shapes)}\")\n",
        "    print(f\"  - Pixels观测一致性: {'一致' if len(set(pixels_shapes)) == 1 else '不一致'}\")\n",
        "\n",
        "print(f\"\\n奖励统计:\")\n",
        "print(f\"  - 奖励范围: [{rewards.min():.4f}, {rewards.max():.4f}]\")\n",
        "print(f\"  - 平均奖励: {rewards.mean():.4f}\")\n",
        "print(f\"  - 奖励标准差: {rewards.std():.4f}\")\n",
        "\n",
        "if len(actions) > 0:\n",
        "    print(f\"\\n动作统计:\")\n",
        "    print(f\"  - 动作数组shape: {actions.shape}\")\n",
        "    print(f\"  - X动作范围: [{actions[:, 0].min():.2f}, {actions[:, 0].max():.2f}]\")\n",
        "    print(f\"  - Y动作范围: [{actions[:, 1].min():.2f}, {actions[:, 1].max():.2f}]\")\n"
      ]
    },
    {
      "cell_type": "raw",
      "metadata": {
        "vscode": {
          "languageId": "raw"
        }
      },
      "source": [
        "## 5. 总结\n",
        "\n",
        "通过以上分析，我们可以确认：\n",
        "\n",
        "1. **pixels_agent_pos观测类型工作正常**：\n",
        "   - pixels字段包含96x96x3的RGB图像数据\n",
        "   - agent_pos字段包含2维的坐标位置信息\n",
        "   - 数据类型正确：pixels为uint8，agent_pos为float64\n",
        "\n",
        "2. **数据格式说明**：\n",
        "   ```python\n",
        "   observation = {\n",
        "       'pixels': np.array(shape=(96, 96, 3), dtype=uint8),  # RGB图像\n",
        "       'agent_pos': np.array(shape=(2,), dtype=float64)     # [x, y]坐标\n",
        "   }\n",
        "   ```\n",
        "\n",
        "3. **问题修复**：\n",
        "   - 之前pixels为None的问题已解决\n",
        "   - 轨迹记录现在正确保存执行动作后的观测\n",
        "   - copy()方法正常工作，不会丢失pixels数据\n",
        "\n",
        "4. **坐标系统**：\n",
        "   - agent_pos的坐标范围：[0, 512]\n",
        "   - pixels图像坐标系：96x96像素\n",
        "   - 需要按比例缩放：`img_coord = agent_pos * 96 / 512`\n"
      ]
    },
    {
      "cell_type": "code",
      "execution_count": 25,
      "metadata": {},
      "outputs": [],
      "source": [
        "# read pickle file\n",
        "import pickle\n",
        "data = pickle.load(open('data/pusht_human_mouse_trajectories/2_trajectories.pickle', 'rb'))"
      ]
    },
    {
      "cell_type": "code",
      "execution_count": null,
      "metadata": {},
      "outputs": [],
      "source": [
        "data[0].steps[0].observation"
      ]
    }
  ],
  "metadata": {
    "kernelspec": {
      "display_name": "omnigibson",
      "language": "python",
      "name": "python3"
    },
    "language_info": {
      "codemirror_mode": {
        "name": "ipython",
        "version": 3
      },
      "file_extension": ".py",
      "mimetype": "text/x-python",
      "name": "python",
      "nbconvert_exporter": "python",
      "pygments_lexer": "ipython3",
      "version": "3.10.18"
    }
  },
  "nbformat": 4,
  "nbformat_minor": 2
}
